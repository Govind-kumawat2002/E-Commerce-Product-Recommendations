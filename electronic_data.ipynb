{
 "cells": [
  {
   "cell_type": "code",
   "execution_count": 1,
   "metadata": {},
   "outputs": [],
   "source": [
    "import numpy as np \n",
    "import pandas as pd \n",
    "import matplotlib.pyplot as plt \n",
    "import seaborn as sbn\n"
   ]
  },
  {
   "cell_type": "code",
   "execution_count": 2,
   "metadata": {},
   "outputs": [],
   "source": [
    "df=pd.read_csv('dataset\\All Electronics.csv')"
   ]
  },
  {
   "cell_type": "code",
   "execution_count": 3,
   "metadata": {},
   "outputs": [
    {
     "data": {
      "text/plain": [
       "(9600, 9)"
      ]
     },
     "execution_count": 3,
     "metadata": {},
     "output_type": "execute_result"
    }
   ],
   "source": [
    "df.shape"
   ]
  },
  {
   "cell_type": "code",
   "execution_count": 4,
   "metadata": {},
   "outputs": [
    {
     "data": {
      "text/plain": [
       "name                0\n",
       "main_category       0\n",
       "sub_category        0\n",
       "image               0\n",
       "link                0\n",
       "ratings            95\n",
       "no_of_ratings      95\n",
       "discount_price    484\n",
       "actual_price       70\n",
       "dtype: int64"
      ]
     },
     "execution_count": 4,
     "metadata": {},
     "output_type": "execute_result"
    }
   ],
   "source": [
    "df.isnull().sum()"
   ]
  },
  {
   "cell_type": "code",
   "execution_count": 5,
   "metadata": {},
   "outputs": [],
   "source": [
    "# df['']\n",
    "df.dropna(inplace=True)"
   ]
  },
  {
   "cell_type": "code",
   "execution_count": 6,
   "metadata": {},
   "outputs": [
    {
     "data": {
      "text/plain": [
       "name              0\n",
       "main_category     0\n",
       "sub_category      0\n",
       "image             0\n",
       "link              0\n",
       "ratings           0\n",
       "no_of_ratings     0\n",
       "discount_price    0\n",
       "actual_price      0\n",
       "dtype: int64"
      ]
     },
     "execution_count": 6,
     "metadata": {},
     "output_type": "execute_result"
    }
   ],
   "source": [
    "df.isnull().sum()"
   ]
  },
  {
   "cell_type": "code",
   "execution_count": 7,
   "metadata": {},
   "outputs": [
    {
     "name": "stdout",
     "output_type": "stream",
     "text": [
      "<class 'pandas.core.frame.DataFrame'>\n",
      "Index: 9026 entries, 0 to 9599\n",
      "Data columns (total 9 columns):\n",
      " #   Column          Non-Null Count  Dtype \n",
      "---  ------          --------------  ----- \n",
      " 0   name            9026 non-null   object\n",
      " 1   main_category   9026 non-null   object\n",
      " 2   sub_category    9026 non-null   object\n",
      " 3   image           9026 non-null   object\n",
      " 4   link            9026 non-null   object\n",
      " 5   ratings         9026 non-null   object\n",
      " 6   no_of_ratings   9026 non-null   object\n",
      " 7   discount_price  9026 non-null   object\n",
      " 8   actual_price    9026 non-null   object\n",
      "dtypes: object(9)\n",
      "memory usage: 705.2+ KB\n"
     ]
    }
   ],
   "source": [
    "df.info()"
   ]
  },
  {
   "cell_type": "code",
   "execution_count": 8,
   "metadata": {},
   "outputs": [],
   "source": [
    "# import numpy as np \n",
    "# import pandas as pd\n",
    "# import os\n",
    "# for dirname, _, filenames in os.walk(r'F:\\ftgyhuij\\E-Commerce-Product-Recommendations\\dataset\\All Electronics.csv'):\n",
    "#     for filename in filenames:\n",
    "#         print(os.path.join(dirname, filename))"
   ]
  },
  {
   "cell_type": "code",
   "execution_count": 9,
   "metadata": {},
   "outputs": [
    {
     "name": "stderr",
     "output_type": "stream",
     "text": [
      "[nltk_data] Downloading package stopwords to\n",
      "[nltk_data]     C:\\Users\\kumaw\\AppData\\Roaming\\nltk_data...\n",
      "[nltk_data]   Package stopwords is already up-to-date!\n"
     ]
    }
   ],
   "source": [
    "import pandas as pd\n",
    "import numpy as np\n",
    "import re\n",
    "import sys\n",
    "import time\n",
    "import pickle\n",
    "import matplotlib.pyplot as plt\n",
    "import seaborn as sns\n",
    "import nltk\n",
    "from nltk.stem.porter import PorterStemmer\n",
    "nltk.download('stopwords')\n",
    "from nltk.corpus import stopwords\n",
    "from sklearn.feature_extraction.text import CountVectorizer\n",
    "from sklearn.metrics.pairwise import cosine_similarity"
   ]
  },
  {
   "cell_type": "code",
   "execution_count": 10,
   "metadata": {},
   "outputs": [
    {
     "name": "stdout",
     "output_type": "stream",
     "text": [
      "Initial dataset shape: (9600, 9)\n"
     ]
    }
   ],
   "source": [
    "FILE_PATH = \"dataset/All Electronics.csv\"\n",
    "prod_df = pd.read_csv(FILE_PATH)\n",
    "\n",
    "print(\"Initial dataset shape:\", prod_df.shape)"
   ]
  },
  {
   "cell_type": "code",
   "execution_count": 11,
   "metadata": {},
   "outputs": [],
   "source": [
    "df['ratings_cleaned'] = (\n",
    "    df['ratings']\n",
    "    .astype(str)\n",
    "    .str.replace(r'[^\\d.]', '', regex=True)  \n",
    "    .replace('', np.nan)                    \n",
    "    .astype(float)                          \n",
    ")\n",
    "\n",
    "df['no_of_ratings_cleaned'] = (\n",
    "    df['no_of_ratings']\n",
    "    .astype(str)\n",
    "    .str.replace(r'[^\\d]', '', regex=True)  \n",
    "    .replace('', np.nan)\n",
    "    .astype(float)\n",
    ")\n",
    "\n",
    "df['discount_price_cleaned'] = (\n",
    "    df['discount_price']\n",
    "    .astype(str)\n",
    "    .str.replace(r'[^\\d]', '', regex=True)\n",
    "    .replace('', np.nan)\n",
    "    .astype(float)\n",
    ")\n",
    "\n",
    "df['actual_price_cleaned'] = (\n",
    "    df['actual_price']\n",
    "    .astype(str)\n",
    "    .str.replace(r'[^\\d]', '', regex=True)\n",
    "    .replace('', np.nan)\n",
    "    .astype(float)\n",
    ")\n",
    "\n",
    "# df[['ratings_cleaned','no_of_ratings_cleaned','discount_price_cleaned','actual_price_cleaned']].describe()"
   ]
  },
  {
   "cell_type": "code",
   "execution_count": 12,
   "metadata": {},
   "outputs": [
    {
     "name": "stdout",
     "output_type": "stream",
     "text": [
      "<class 'pandas.core.frame.DataFrame'>\n",
      "Index: 9026 entries, 0 to 9599\n",
      "Data columns (total 13 columns):\n",
      " #   Column                  Non-Null Count  Dtype  \n",
      "---  ------                  --------------  -----  \n",
      " 0   name                    9026 non-null   object \n",
      " 1   main_category           9026 non-null   object \n",
      " 2   sub_category            9026 non-null   object \n",
      " 3   image                   9026 non-null   object \n",
      " 4   link                    9026 non-null   object \n",
      " 5   ratings                 9026 non-null   object \n",
      " 6   no_of_ratings           9026 non-null   object \n",
      " 7   discount_price          9026 non-null   object \n",
      " 8   actual_price            9026 non-null   object \n",
      " 9   ratings_cleaned         9002 non-null   float64\n",
      " 10  no_of_ratings_cleaned   9002 non-null   float64\n",
      " 11  discount_price_cleaned  9026 non-null   float64\n",
      " 12  actual_price_cleaned    9026 non-null   float64\n",
      "dtypes: float64(4), object(9)\n",
      "memory usage: 987.2+ KB\n"
     ]
    }
   ],
   "source": [
    "df.info()"
   ]
  },
  {
   "cell_type": "code",
   "execution_count": 13,
   "metadata": {},
   "outputs": [
    {
     "data": {
      "image/png": "[encoded data removed]",
      "text/plain": [
       "<Figure size 1200x800 with 4 Axes>"
      ]
     },
     "metadata": {},
     "output_type": "display_data"
    }
   ],
   "source": [
    "numeric_cols = ['ratings_cleaned','no_of_ratings_cleaned','discount_price_cleaned','actual_price_cleaned']\n",
    "df[numeric_cols].hist(bins=30, figsize=(12,8), color='teal', edgecolor='black')\n",
    "plt.tight_layout()\n",
    "plt.show()"
   ]
  },
  {
   "cell_type": "code",
   "execution_count": 14,
   "metadata": {},
   "outputs": [
    {
     "data": {
      "image/png": "[encoded data removed]",
      "text/plain": [
       "<Figure size 800x600 with 1 Axes>"
      ]
     },
     "metadata": {},
     "output_type": "display_data"
    }
   ],
   "source": [
    "plt.figure(figsize=(8,6))\n",
    "sns.scatterplot(\n",
    "    x=df['discount_price_cleaned'], \n",
    "    y=df['ratings_cleaned'], \n",
    "    alpha=0.7, \n",
    "    color='purple'\n",
    ")\n",
    "plt.xlabel(\"Discount Price (Cleaned)\")\n",
    "plt.ylabel(\"Ratings (Cleaned)\")\n",
    "plt.title(\"Price vs. Ratings\")\n",
    "plt.show()"
   ]
  },
  {
   "cell_type": "code",
   "execution_count": 15,
   "metadata": {},
   "outputs": [
    {
     "data": {
      "image/png": "[encoded data removed]",
      "text/plain": [
       "<Figure size 800x500 with 1 Axes>"
      ]
     },
     "metadata": {},
     "output_type": "display_data"
    }
   ],
   "source": [
    "plt.figure(figsize=(8,5))\n",
    "sns.scatterplot(\n",
    "    x=df['no_of_ratings_cleaned'], \n",
    "    y=df['ratings_cleaned'],\n",
    "    alpha=0.6, \n",
    "    color='green'\n",
    ")\n",
    "plt.xscale('log')\n",
    "plt.xlabel(\"Number of Ratings (log scale)\")\n",
    "plt.ylabel(\"Star Rating\")\n",
    "plt.title(\"Star Rating vs. Number of Ratings\")\n",
    "plt.show()"
   ]
  },
  {
   "cell_type": "code",
   "execution_count": 16,
   "metadata": {},
   "outputs": [],
   "source": [
    "# df.sort_values(by='no_of_ratings_cleaned',ascending=False)"
   ]
  },
  {
   "cell_type": "code",
   "execution_count": 17,
   "metadata": {},
   "outputs": [],
   "source": [
    "top_10_rated = df.sort_values(by='no_of_ratings_cleaned', ascending=False).head(10)  # check the ascending order of no of ratings clened coloum "
   ]
  },
  {
   "cell_type": "code",
   "execution_count": 18,
   "metadata": {},
   "outputs": [
    {
     "data": {
      "text/html": [
       "<div>\n",
       "<style scoped>\n",
       "    .dataframe tbody tr th:only-of-type {\n",
       "        vertical-align: middle;\n",
       "    }\n",
       "\n",
       "    .dataframe tbody tr th {\n",
       "        vertical-align: top;\n",
       "    }\n",
       "\n",
       "    .dataframe thead th {\n",
       "        text-align: right;\n",
       "    }\n",
       "</style>\n",
       "<table border=\"1\" class=\"dataframe\">\n",
       "  <thead>\n",
       "    <tr style=\"text-align: right;\">\n",
       "      <th></th>\n",
       "      <th>name</th>\n",
       "      <th>main_category</th>\n",
       "      <th>sub_category</th>\n",
       "      <th>image</th>\n",
       "      <th>link</th>\n",
       "      <th>ratings</th>\n",
       "      <th>no_of_ratings</th>\n",
       "      <th>discount_price</th>\n",
       "      <th>actual_price</th>\n",
       "      <th>ratings_cleaned</th>\n",
       "      <th>no_of_ratings_cleaned</th>\n",
       "      <th>discount_price_cleaned</th>\n",
       "      <th>actual_price_cleaned</th>\n",
       "    </tr>\n",
       "  </thead>\n",
       "  <tbody>\n",
       "    <tr>\n",
       "      <th>1217</th>\n",
       "      <td>Amazon Basics High-Speed HDMI Cable, 6 Feet - ...</td>\n",
       "      <td>tv, audio &amp; cameras</td>\n",
       "      <td>All Electronics</td>\n",
       "      <td>https://m.media-amazon.com/images/W/IMAGERENDE...</td>\n",
       "      <td>https://www.amazon.in/AmazonBasics-High-Speed-...</td>\n",
       "      <td>4.4</td>\n",
       "      <td>437,651</td>\n",
       "      <td>₹269</td>\n",
       "      <td>₹475</td>\n",
       "      <td>4.4</td>\n",
       "      <td>437651.0</td>\n",
       "      <td>269.0</td>\n",
       "      <td>475.0</td>\n",
       "    </tr>\n",
       "    <tr>\n",
       "      <th>605</th>\n",
       "      <td>Amazon Basics Flexible Premium HDMI Cable (Bla...</td>\n",
       "      <td>tv, audio &amp; cameras</td>\n",
       "      <td>All Electronics</td>\n",
       "      <td>https://m.media-amazon.com/images/I/71gEiWJNPe...</td>\n",
       "      <td>https://www.amazon.in/AmazonBasics-Flexible-HD...</td>\n",
       "      <td>4.4</td>\n",
       "      <td>437,651</td>\n",
       "      <td>₹269</td>\n",
       "      <td>₹700</td>\n",
       "      <td>4.4</td>\n",
       "      <td>437651.0</td>\n",
       "      <td>269.0</td>\n",
       "      <td>700.0</td>\n",
       "    </tr>\n",
       "    <tr>\n",
       "      <th>470</th>\n",
       "      <td>Amazon Basics High-Speed HDMI Cable - 10 Feet ...</td>\n",
       "      <td>tv, audio &amp; cameras</td>\n",
       "      <td>All Electronics</td>\n",
       "      <td>https://m.media-amazon.com/images/W/IMAGERENDE...</td>\n",
       "      <td>https://www.amazon.in/AmazonBasics-High-Speed-...</td>\n",
       "      <td>4.4</td>\n",
       "      <td>437,651</td>\n",
       "      <td>₹379</td>\n",
       "      <td>₹995</td>\n",
       "      <td>4.4</td>\n",
       "      <td>437651.0</td>\n",
       "      <td>379.0</td>\n",
       "      <td>995.0</td>\n",
       "    </tr>\n",
       "    <tr>\n",
       "      <th>2542</th>\n",
       "      <td>Amazon Basics High-Speed HDMI Cable, 6 Feet (2...</td>\n",
       "      <td>tv, audio &amp; cameras</td>\n",
       "      <td>All Electronics</td>\n",
       "      <td>https://m.media-amazon.com/images/I/61ntykhzGV...</td>\n",
       "      <td>https://www.amazon.in/AmazonBasics-High-Speed-...</td>\n",
       "      <td>4.4</td>\n",
       "      <td>437,651</td>\n",
       "      <td>₹349</td>\n",
       "      <td>₹1,400</td>\n",
       "      <td>4.4</td>\n",
       "      <td>437651.0</td>\n",
       "      <td>349.0</td>\n",
       "      <td>1400.0</td>\n",
       "    </tr>\n",
       "    <tr>\n",
       "      <th>15</th>\n",
       "      <td>boAt BassHeads 100 in-Ear Wired Headphones wit...</td>\n",
       "      <td>tv, audio &amp; cameras</td>\n",
       "      <td>All Electronics</td>\n",
       "      <td>https://m.media-amazon.com/images/I/719elVA3Fv...</td>\n",
       "      <td>https://www.amazon.in/boAt-BassHeads-100-Headp...</td>\n",
       "      <td>4.1</td>\n",
       "      <td>375,110</td>\n",
       "      <td>₹399</td>\n",
       "      <td>₹999</td>\n",
       "      <td>4.1</td>\n",
       "      <td>375110.0</td>\n",
       "      <td>399.0</td>\n",
       "      <td>999.0</td>\n",
       "    </tr>\n",
       "    <tr>\n",
       "      <th>280</th>\n",
       "      <td>boAt Bassheads 100 Wired in Ear Earphones with...</td>\n",
       "      <td>tv, audio &amp; cameras</td>\n",
       "      <td>All Electronics</td>\n",
       "      <td>https://m.media-amazon.com/images/I/51hf-Hst0a...</td>\n",
       "      <td>https://www.amazon.in/Bassheads-100-Wired-Earp...</td>\n",
       "      <td>4.1</td>\n",
       "      <td>375,110</td>\n",
       "      <td>₹399</td>\n",
       "      <td>₹999</td>\n",
       "      <td>4.1</td>\n",
       "      <td>375110.0</td>\n",
       "      <td>399.0</td>\n",
       "      <td>999.0</td>\n",
       "    </tr>\n",
       "    <tr>\n",
       "      <th>382</th>\n",
       "      <td>boAt BassHeads 100 in-Ear Wired Headphones wit...</td>\n",
       "      <td>tv, audio &amp; cameras</td>\n",
       "      <td>All Electronics</td>\n",
       "      <td>https://m.media-amazon.com/images/I/71e1SSUhZe...</td>\n",
       "      <td>https://www.amazon.in/boAt-BassHeads-100-Headp...</td>\n",
       "      <td>4.1</td>\n",
       "      <td>375,110</td>\n",
       "      <td>₹399</td>\n",
       "      <td>₹999</td>\n",
       "      <td>4.1</td>\n",
       "      <td>375110.0</td>\n",
       "      <td>399.0</td>\n",
       "      <td>999.0</td>\n",
       "    </tr>\n",
       "    <tr>\n",
       "      <th>4365</th>\n",
       "      <td>boAt BassHeads 100 Delhi Capitals Edition Wire...</td>\n",
       "      <td>tv, audio &amp; cameras</td>\n",
       "      <td>All Electronics</td>\n",
       "      <td>https://m.media-amazon.com/images/I/61nQVM32kr...</td>\n",
       "      <td>https://www.amazon.in/BassHeads-100-Capitals-E...</td>\n",
       "      <td>4.1</td>\n",
       "      <td>375,110</td>\n",
       "      <td>₹474</td>\n",
       "      <td>₹1,499</td>\n",
       "      <td>4.1</td>\n",
       "      <td>375110.0</td>\n",
       "      <td>474.0</td>\n",
       "      <td>1499.0</td>\n",
       "    </tr>\n",
       "    <tr>\n",
       "      <th>170</th>\n",
       "      <td>boAt Bassheads 100 in Ear Wired Earphones with...</td>\n",
       "      <td>tv, audio &amp; cameras</td>\n",
       "      <td>All Electronics</td>\n",
       "      <td>https://m.media-amazon.com/images/I/61l+14s5QV...</td>\n",
       "      <td>https://www.amazon.in/Boat-BassHeads-100-Inspi...</td>\n",
       "      <td>4.1</td>\n",
       "      <td>375,110</td>\n",
       "      <td>₹399</td>\n",
       "      <td>₹999</td>\n",
       "      <td>4.1</td>\n",
       "      <td>375110.0</td>\n",
       "      <td>399.0</td>\n",
       "      <td>999.0</td>\n",
       "    </tr>\n",
       "    <tr>\n",
       "      <th>848</th>\n",
       "      <td>boAt Bassheads 100 Wired in Ear Earphones with...</td>\n",
       "      <td>tv, audio &amp; cameras</td>\n",
       "      <td>All Electronics</td>\n",
       "      <td>https://m.media-amazon.com/images/I/51WGHlpa-z...</td>\n",
       "      <td>https://www.amazon.in/Bassheads-100-Wired-Earp...</td>\n",
       "      <td>4.1</td>\n",
       "      <td>375,110</td>\n",
       "      <td>₹399</td>\n",
       "      <td>₹999</td>\n",
       "      <td>4.1</td>\n",
       "      <td>375110.0</td>\n",
       "      <td>399.0</td>\n",
       "      <td>999.0</td>\n",
       "    </tr>\n",
       "  </tbody>\n",
       "</table>\n",
       "</div>"
      ],
      "text/plain": [
       "                                                   name        main_category  \\\n",
       "1217  Amazon Basics High-Speed HDMI Cable, 6 Feet - ...  tv, audio & cameras   \n",
       "605   Amazon Basics Flexible Premium HDMI Cable (Bla...  tv, audio & cameras   \n",
       "470   Amazon Basics High-Speed HDMI Cable - 10 Feet ...  tv, audio & cameras   \n",
       "2542  Amazon Basics High-Speed HDMI Cable, 6 Feet (2...  tv, audio & cameras   \n",
       "15    boAt BassHeads 100 in-Ear Wired Headphones wit...  tv, audio & cameras   \n",
       "280   boAt Bassheads 100 Wired in Ear Earphones with...  tv, audio & cameras   \n",
       "382   boAt BassHeads 100 in-Ear Wired Headphones wit...  tv, audio & cameras   \n",
       "4365  boAt BassHeads 100 Delhi Capitals Edition Wire...  tv, audio & cameras   \n",
       "170   boAt Bassheads 100 in Ear Wired Earphones with...  tv, audio & cameras   \n",
       "848   boAt Bassheads 100 Wired in Ear Earphones with...  tv, audio & cameras   \n",
       "\n",
       "         sub_category                                              image  \\\n",
       "1217  All Electronics  https://m.media-amazon.com/images/W/IMAGERENDE...   \n",
       "605   All Electronics  https://m.media-amazon.com/images/I/71gEiWJNPe...   \n",
       "470   All Electronics  https://m.media-amazon.com/images/W/IMAGERENDE...   \n",
       "2542  All Electronics  https://m.media-amazon.com/images/I/61ntykhzGV...   \n",
       "15    All Electronics  https://m.media-amazon.com/images/I/719elVA3Fv...   \n",
       "280   All Electronics  https://m.media-amazon.com/images/I/51hf-Hst0a...   \n",
       "382   All Electronics  https://m.media-amazon.com/images/I/71e1SSUhZe...   \n",
       "4365  All Electronics  https://m.media-amazon.com/images/I/61nQVM32kr...   \n",
       "170   All Electronics  https://m.media-amazon.com/images/I/61l+14s5QV...   \n",
       "848   All Electronics  https://m.media-amazon.com/images/I/51WGHlpa-z...   \n",
       "\n",
       "                                                   link ratings no_of_ratings  \\\n",
       "1217  https://www.amazon.in/AmazonBasics-High-Speed-...     4.4       437,651   \n",
       "605   https://www.amazon.in/AmazonBasics-Flexible-HD...     4.4       437,651   \n",
       "470   https://www.amazon.in/AmazonBasics-High-Speed-...     4.4       437,651   \n",
       "2542  https://www.amazon.in/AmazonBasics-High-Speed-...     4.4       437,651   \n",
       "15    https://www.amazon.in/boAt-BassHeads-100-Headp...     4.1       375,110   \n",
       "280   https://www.amazon.in/Bassheads-100-Wired-Earp...     4.1       375,110   \n",
       "382   https://www.amazon.in/boAt-BassHeads-100-Headp...     4.1       375,110   \n",
       "4365  https://www.amazon.in/BassHeads-100-Capitals-E...     4.1       375,110   \n",
       "170   https://www.amazon.in/Boat-BassHeads-100-Inspi...     4.1       375,110   \n",
       "848   https://www.amazon.in/Bassheads-100-Wired-Earp...     4.1       375,110   \n",
       "\n",
       "     discount_price actual_price  ratings_cleaned  no_of_ratings_cleaned  \\\n",
       "1217           ₹269         ₹475              4.4               437651.0   \n",
       "605            ₹269         ₹700              4.4               437651.0   \n",
       "470            ₹379         ₹995              4.4               437651.0   \n",
       "2542           ₹349       ₹1,400              4.4               437651.0   \n",
       "15             ₹399         ₹999              4.1               375110.0   \n",
       "280            ₹399         ₹999              4.1               375110.0   \n",
       "382            ₹399         ₹999              4.1               375110.0   \n",
       "4365           ₹474       ₹1,499              4.1               375110.0   \n",
       "170            ₹399         ₹999              4.1               375110.0   \n",
       "848            ₹399         ₹999              4.1               375110.0   \n",
       "\n",
       "      discount_price_cleaned  actual_price_cleaned  \n",
       "1217                   269.0                 475.0  \n",
       "605                    269.0                 700.0  \n",
       "470                    379.0                 995.0  \n",
       "2542                   349.0                1400.0  \n",
       "15                     399.0                 999.0  \n",
       "280                    399.0                 999.0  \n",
       "382                    399.0                 999.0  \n",
       "4365                   474.0                1499.0  \n",
       "170                    399.0                 999.0  \n",
       "848                    399.0                 999.0  "
      ]
     },
     "execution_count": 18,
     "metadata": {},
     "output_type": "execute_result"
    }
   ],
   "source": [
    "top_10_rated\n"
   ]
  },
  {
   "cell_type": "code",
   "execution_count": 19,
   "metadata": {},
   "outputs": [
    {
     "data": {
      "text/html": [
       "<div>\n",
       "<style scoped>\n",
       "    .dataframe tbody tr th:only-of-type {\n",
       "        vertical-align: middle;\n",
       "    }\n",
       "\n",
       "    .dataframe tbody tr th {\n",
       "        vertical-align: top;\n",
       "    }\n",
       "\n",
       "    .dataframe thead th {\n",
       "        text-align: right;\n",
       "    }\n",
       "</style>\n",
       "<table border=\"1\" class=\"dataframe\">\n",
       "  <thead>\n",
       "    <tr style=\"text-align: right;\">\n",
       "      <th></th>\n",
       "      <th>name</th>\n",
       "      <th>no_of_ratings</th>\n",
       "      <th>ratings</th>\n",
       "      <th>discount_price</th>\n",
       "      <th>actual_price</th>\n",
       "    </tr>\n",
       "  </thead>\n",
       "  <tbody>\n",
       "    <tr>\n",
       "      <th>1217</th>\n",
       "      <td>Amazon Basics High-Speed HDMI Cable, 6 Feet - ...</td>\n",
       "      <td>437,651</td>\n",
       "      <td>4.4</td>\n",
       "      <td>₹269</td>\n",
       "      <td>₹475</td>\n",
       "    </tr>\n",
       "    <tr>\n",
       "      <th>605</th>\n",
       "      <td>Amazon Basics Flexible Premium HDMI Cable (Bla...</td>\n",
       "      <td>437,651</td>\n",
       "      <td>4.4</td>\n",
       "      <td>₹269</td>\n",
       "      <td>₹700</td>\n",
       "    </tr>\n",
       "    <tr>\n",
       "      <th>470</th>\n",
       "      <td>Amazon Basics High-Speed HDMI Cable - 10 Feet ...</td>\n",
       "      <td>437,651</td>\n",
       "      <td>4.4</td>\n",
       "      <td>₹379</td>\n",
       "      <td>₹995</td>\n",
       "    </tr>\n",
       "    <tr>\n",
       "      <th>2542</th>\n",
       "      <td>Amazon Basics High-Speed HDMI Cable, 6 Feet (2...</td>\n",
       "      <td>437,651</td>\n",
       "      <td>4.4</td>\n",
       "      <td>₹349</td>\n",
       "      <td>₹1,400</td>\n",
       "    </tr>\n",
       "    <tr>\n",
       "      <th>15</th>\n",
       "      <td>boAt BassHeads 100 in-Ear Wired Headphones wit...</td>\n",
       "      <td>375,110</td>\n",
       "      <td>4.1</td>\n",
       "      <td>₹399</td>\n",
       "      <td>₹999</td>\n",
       "    </tr>\n",
       "    <tr>\n",
       "      <th>280</th>\n",
       "      <td>boAt Bassheads 100 Wired in Ear Earphones with...</td>\n",
       "      <td>375,110</td>\n",
       "      <td>4.1</td>\n",
       "      <td>₹399</td>\n",
       "      <td>₹999</td>\n",
       "    </tr>\n",
       "    <tr>\n",
       "      <th>382</th>\n",
       "      <td>boAt BassHeads 100 in-Ear Wired Headphones wit...</td>\n",
       "      <td>375,110</td>\n",
       "      <td>4.1</td>\n",
       "      <td>₹399</td>\n",
       "      <td>₹999</td>\n",
       "    </tr>\n",
       "    <tr>\n",
       "      <th>4365</th>\n",
       "      <td>boAt BassHeads 100 Delhi Capitals Edition Wire...</td>\n",
       "      <td>375,110</td>\n",
       "      <td>4.1</td>\n",
       "      <td>₹474</td>\n",
       "      <td>₹1,499</td>\n",
       "    </tr>\n",
       "    <tr>\n",
       "      <th>170</th>\n",
       "      <td>boAt Bassheads 100 in Ear Wired Earphones with...</td>\n",
       "      <td>375,110</td>\n",
       "      <td>4.1</td>\n",
       "      <td>₹399</td>\n",
       "      <td>₹999</td>\n",
       "    </tr>\n",
       "    <tr>\n",
       "      <th>848</th>\n",
       "      <td>boAt Bassheads 100 Wired in Ear Earphones with...</td>\n",
       "      <td>375,110</td>\n",
       "      <td>4.1</td>\n",
       "      <td>₹399</td>\n",
       "      <td>₹999</td>\n",
       "    </tr>\n",
       "  </tbody>\n",
       "</table>\n",
       "</div>"
      ],
      "text/plain": [
       "                                                   name no_of_ratings ratings  \\\n",
       "1217  Amazon Basics High-Speed HDMI Cable, 6 Feet - ...       437,651     4.4   \n",
       "605   Amazon Basics Flexible Premium HDMI Cable (Bla...       437,651     4.4   \n",
       "470   Amazon Basics High-Speed HDMI Cable - 10 Feet ...       437,651     4.4   \n",
       "2542  Amazon Basics High-Speed HDMI Cable, 6 Feet (2...       437,651     4.4   \n",
       "15    boAt BassHeads 100 in-Ear Wired Headphones wit...       375,110     4.1   \n",
       "280   boAt Bassheads 100 Wired in Ear Earphones with...       375,110     4.1   \n",
       "382   boAt BassHeads 100 in-Ear Wired Headphones wit...       375,110     4.1   \n",
       "4365  boAt BassHeads 100 Delhi Capitals Edition Wire...       375,110     4.1   \n",
       "170   boAt Bassheads 100 in Ear Wired Earphones with...       375,110     4.1   \n",
       "848   boAt Bassheads 100 Wired in Ear Earphones with...       375,110     4.1   \n",
       "\n",
       "     discount_price actual_price  \n",
       "1217           ₹269         ₹475  \n",
       "605            ₹269         ₹700  \n",
       "470            ₹379         ₹995  \n",
       "2542           ₹349       ₹1,400  \n",
       "15             ₹399         ₹999  \n",
       "280            ₹399         ₹999  \n",
       "382            ₹399         ₹999  \n",
       "4365           ₹474       ₹1,499  \n",
       "170            ₹399         ₹999  \n",
       "848            ₹399         ₹999  "
      ]
     },
     "metadata": {},
     "output_type": "display_data"
    }
   ],
   "source": [
    "display(top_10_rated[['name','no_of_ratings','ratings','discount_price','actual_price']])\n"
   ]
  },
  {
   "cell_type": "code",
   "execution_count": 20,
   "metadata": {},
   "outputs": [
    {
     "name": "stdout",
     "output_type": "stream",
     "text": [
      "Requirement already satisfied: wordcloud in c:\\users\\kumaw\\appdata\\local\\programs\\python\\python311\\lib\\site-packages (1.9.4)\n",
      "Requirement already satisfied: numpy>=1.6.1 in c:\\users\\kumaw\\appdata\\local\\programs\\python\\python311\\lib\\site-packages (from wordcloud) (1.26.4)\n",
      "Requirement already satisfied: pillow in c:\\users\\kumaw\\appdata\\local\\programs\\python\\python311\\lib\\site-packages (from wordcloud) (10.2.0)\n",
      "Requirement already satisfied: matplotlib in c:\\users\\kumaw\\appdata\\local\\programs\\python\\python311\\lib\\site-packages (from wordcloud) (3.8.3)\n",
      "Requirement already satisfied: contourpy>=1.0.1 in c:\\users\\kumaw\\appdata\\local\\programs\\python\\python311\\lib\\site-packages (from matplotlib->wordcloud) (1.2.0)\n",
      "Requirement already satisfied: cycler>=0.10 in c:\\users\\kumaw\\appdata\\local\\programs\\python\\python311\\lib\\site-packages (from matplotlib->wordcloud) (0.12.1)\n",
      "Requirement already satisfied: fonttools>=4.22.0 in c:\\users\\kumaw\\appdata\\local\\programs\\python\\python311\\lib\\site-packages (from matplotlib->wordcloud) (4.50.0)\n",
      "Requirement already satisfied: kiwisolver>=1.3.1 in c:\\users\\kumaw\\appdata\\local\\programs\\python\\python311\\lib\\site-packages (from matplotlib->wordcloud) (1.4.5)\n",
      "Requirement already satisfied: packaging>=20.0 in c:\\users\\kumaw\\appdata\\roaming\\python\\python311\\site-packages (from matplotlib->wordcloud) (23.2)\n",
      "Requirement already satisfied: pyparsing>=2.3.1 in c:\\users\\kumaw\\appdata\\local\\programs\\python\\python311\\lib\\site-packages (from matplotlib->wordcloud) (3.1.2)\n",
      "Requirement already satisfied: python-dateutil>=2.7 in c:\\users\\kumaw\\appdata\\roaming\\python\\python311\\site-packages (from matplotlib->wordcloud) (2.9.0.post0)\n",
      "Requirement already satisfied: six>=1.5 in c:\\users\\kumaw\\appdata\\roaming\\python\\python311\\site-packages (from python-dateutil>=2.7->matplotlib->wordcloud) (1.16.0)\n"
     ]
    }
   ],
   "source": [
    "!pip install wordcloud\n"
   ]
  },
  {
   "cell_type": "code",
   "execution_count": 21,
   "metadata": {},
   "outputs": [
    {
     "data": {
      "text/plain": [
       "0    Redmi 10 Power (Power Black, 8GB RAM, 128GB St...\n",
       "Name: name, dtype: object"
      ]
     },
     "execution_count": 21,
     "metadata": {},
     "output_type": "execute_result"
    }
   ],
   "source": [
    "df['name'].head(1)"
   ]
  },
  {
   "cell_type": "code",
   "execution_count": 22,
   "metadata": {},
   "outputs": [],
   "source": [
    "from wordcloud import WordCloud\n",
    "\n",
    "all_names = \" \".join(df['name'].astype(str).fillna(\"\"))\n",
    "wordcloud = WordCloud(\n",
    "    width=800, \n",
    "    height=400, \n",
    "    background_color='white', \n",
    "    stopwords={'with','for','and','in','to','of','the','by'}  # add any relevant stops\n",
    ").generate(all_names)\n",
    "\n",
    "# plt.figure(figsize=(10,5))\n",
    "# plt.imshow(wordcloud, interpolation='bilinear')\n",
    "# plt.axis(\"off\")\n",
    "# plt.title(\"WordCloud of Product Names\")\n",
    "# plt.show()"
   ]
  },
  {
   "cell_type": "code",
   "execution_count": 23,
   "metadata": {},
   "outputs": [],
   "source": [
    "# wordcloud.generate(all_names)"
   ]
  },
  {
   "cell_type": "code",
   "execution_count": 24,
   "metadata": {},
   "outputs": [],
   "source": [
    "# drop tha drop_unnecessary_columns form the data set \n",
    "\n",
    "def drop_unnecessary_columns(dataframe, drop_cols):\n",
    "    \"\"\"\n",
    "    Removes columns that aren't needed for recommendation.\n",
    "    \"\"\"\n",
    "    dataframe.drop(drop_cols, axis=1, inplace=True)\n",
    "    return dataframe\n",
    "\n",
    "drop_cols = ['main_category','sub_category']  \n",
    "prod_df = drop_unnecessary_columns(prod_df, drop_cols)"
   ]
  },
  {
   "cell_type": "code",
   "execution_count": 25,
   "metadata": {},
   "outputs": [
    {
     "data": {
      "text/plain": [
       "0"
      ]
     },
     "execution_count": 25,
     "metadata": {},
     "output_type": "execute_result"
    }
   ],
   "source": [
    "prod_df.duplicated().sum()\n"
   ]
  },
  {
   "cell_type": "code",
   "execution_count": 26,
   "metadata": {},
   "outputs": [],
   "source": [
    "# df.isnull().sum()\n"
   ]
  },
  {
   "cell_type": "code",
   "execution_count": 27,
   "metadata": {},
   "outputs": [
    {
     "data": {
      "text/plain": [
       "name                0\n",
       "image               0\n",
       "link                0\n",
       "ratings            95\n",
       "no_of_ratings      95\n",
       "discount_price    484\n",
       "actual_price       70\n",
       "dtype: int64"
      ]
     },
     "execution_count": 27,
     "metadata": {},
     "output_type": "execute_result"
    }
   ],
   "source": [
    "prod_df.isnull().sum()"
   ]
  },
  {
   "cell_type": "code",
   "execution_count": 28,
   "metadata": {},
   "outputs": [
    {
     "name": "stdout",
     "output_type": "stream",
     "text": [
      "Number of duplicated rows: 0\n"
     ]
    }
   ],
   "source": [
    "# drop the duplicate value from data set \n",
    "\n",
    "duplicates_count = prod_df.duplicated().sum()\n",
    "print(\"Number of duplicated rows:\", duplicates_count)\n",
    "if duplicates_count > 0:\n",
    "    prod_df.drop_duplicates(inplace=True)"
   ]
  },
  {
   "cell_type": "code",
   "execution_count": 29,
   "metadata": {},
   "outputs": [
    {
     "name": "stdout",
     "output_type": "stream",
     "text": [
      "Shape after cleaning: (9600, 7)\n"
     ]
    }
   ],
   "source": [
    "# drop the nall value from dataset \n",
    "\n",
    "prod_df.dropna(subset=['name'], inplace=True)\n",
    "\n",
    "print(\"Shape after cleaning:\", prod_df.shape)"
   ]
  },
  {
   "cell_type": "code",
   "execution_count": 30,
   "metadata": {},
   "outputs": [],
   "source": [
    "prod_df.dropna(subset=['ratings'],inplace=True)\n"
   ]
  },
  {
   "cell_type": "code",
   "execution_count": 31,
   "metadata": {},
   "outputs": [],
   "source": [
    "prod_df.dropna(subset=['discount_price'],inplace=True)\n"
   ]
  },
  {
   "cell_type": "code",
   "execution_count": 32,
   "metadata": {},
   "outputs": [
    {
     "data": {
      "text/plain": [
       "name              0\n",
       "image             0\n",
       "link              0\n",
       "ratings           0\n",
       "no_of_ratings     0\n",
       "discount_price    0\n",
       "actual_price      0\n",
       "dtype: int64"
      ]
     },
     "execution_count": 32,
     "metadata": {},
     "output_type": "execute_result"
    }
   ],
   "source": [
    "prod_df.isnull().sum()\n"
   ]
  },
  {
   "cell_type": "code",
   "execution_count": 33,
   "metadata": {},
   "outputs": [
    {
     "data": {
      "text/html": [
       "<div>\n",
       "<style scoped>\n",
       "    .dataframe tbody tr th:only-of-type {\n",
       "        vertical-align: middle;\n",
       "    }\n",
       "\n",
       "    .dataframe tbody tr th {\n",
       "        vertical-align: top;\n",
       "    }\n",
       "\n",
       "    .dataframe thead th {\n",
       "        text-align: right;\n",
       "    }\n",
       "</style>\n",
       "<table border=\"1\" class=\"dataframe\">\n",
       "  <thead>\n",
       "    <tr style=\"text-align: right;\">\n",
       "      <th></th>\n",
       "      <th>name</th>\n",
       "      <th>image</th>\n",
       "      <th>link</th>\n",
       "      <th>ratings</th>\n",
       "      <th>no_of_ratings</th>\n",
       "      <th>discount_price</th>\n",
       "      <th>actual_price</th>\n",
       "    </tr>\n",
       "  </thead>\n",
       "  <tbody>\n",
       "    <tr>\n",
       "      <th>0</th>\n",
       "      <td>Redmi 10 Power (Power Black, 8GB RAM, 128GB St...</td>\n",
       "      <td>https://m.media-amazon.com/images/I/81eM15lVcJ...</td>\n",
       "      <td>https://www.amazon.in/Redmi-Power-Black-128GB-...</td>\n",
       "      <td>4.0</td>\n",
       "      <td>965</td>\n",
       "      <td>₹10,999</td>\n",
       "      <td>₹18,999</td>\n",
       "    </tr>\n",
       "    <tr>\n",
       "      <th>1</th>\n",
       "      <td>OnePlus Nord CE 2 Lite 5G (Blue Tide, 6GB RAM,...</td>\n",
       "      <td>https://m.media-amazon.com/images/I/71AvQd3Vzq...</td>\n",
       "      <td>https://www.amazon.in/OnePlus-Nord-Lite-128GB-...</td>\n",
       "      <td>4.3</td>\n",
       "      <td>113,956</td>\n",
       "      <td>₹18,999</td>\n",
       "      <td>₹19,999</td>\n",
       "    </tr>\n",
       "    <tr>\n",
       "      <th>2</th>\n",
       "      <td>OnePlus Bullets Z2 Bluetooth Wireless in Ear E...</td>\n",
       "      <td>https://m.media-amazon.com/images/I/51UhwaQXCp...</td>\n",
       "      <td>https://www.amazon.in/Oneplus-Bluetooth-Wirele...</td>\n",
       "      <td>4.2</td>\n",
       "      <td>90,304</td>\n",
       "      <td>₹1,999</td>\n",
       "      <td>₹2,299</td>\n",
       "    </tr>\n",
       "    <tr>\n",
       "      <th>3</th>\n",
       "      <td>Samsung Galaxy M33 5G (Mystique Green, 6GB, 12...</td>\n",
       "      <td>https://m.media-amazon.com/images/I/81I3w4J6yj...</td>\n",
       "      <td>https://www.amazon.in/Samsung-Mystique-Storage...</td>\n",
       "      <td>4.1</td>\n",
       "      <td>24,863</td>\n",
       "      <td>₹15,999</td>\n",
       "      <td>₹24,999</td>\n",
       "    </tr>\n",
       "    <tr>\n",
       "      <th>4</th>\n",
       "      <td>OnePlus Nord CE 2 Lite 5G (Black Dusk, 6GB RAM...</td>\n",
       "      <td>https://m.media-amazon.com/images/I/71V--WZVUI...</td>\n",
       "      <td>https://www.amazon.in/OnePlus-Nord-Black-128GB...</td>\n",
       "      <td>4.3</td>\n",
       "      <td>113,956</td>\n",
       "      <td>₹18,999</td>\n",
       "      <td>₹19,999</td>\n",
       "    </tr>\n",
       "    <tr>\n",
       "      <th>...</th>\n",
       "      <td>...</td>\n",
       "      <td>...</td>\n",
       "      <td>...</td>\n",
       "      <td>...</td>\n",
       "      <td>...</td>\n",
       "      <td>...</td>\n",
       "      <td>...</td>\n",
       "    </tr>\n",
       "    <tr>\n",
       "      <th>9595</th>\n",
       "      <td>PALAY® BTS Backpack For Boys Kpop BTS Bangtan ...</td>\n",
       "      <td>https://m.media-amazon.com/images/W/IMAGERENDE...</td>\n",
       "      <td>https://www.amazon.in/PALAY%C2%AE-Backpack-Ban...</td>\n",
       "      <td>4.1</td>\n",
       "      <td>37</td>\n",
       "      <td>₹1,710</td>\n",
       "      <td>₹2,491</td>\n",
       "    </tr>\n",
       "    <tr>\n",
       "      <th>9596</th>\n",
       "      <td>MOCA iPad Air 5th Generation Case 2022 / iPad ...</td>\n",
       "      <td>https://m.media-amazon.com/images/W/IMAGERENDE...</td>\n",
       "      <td>https://www.amazon.in/MOCA-Protective-Generati...</td>\n",
       "      <td>4.2</td>\n",
       "      <td>1,133</td>\n",
       "      <td>₹475</td>\n",
       "      <td>₹1,999</td>\n",
       "    </tr>\n",
       "    <tr>\n",
       "      <th>9597</th>\n",
       "      <td>ZEBRONICS Zeb-Sound Bomb 5 TWS V5.0 Bluetooth ...</td>\n",
       "      <td>https://m.media-amazon.com/images/W/IMAGERENDE...</td>\n",
       "      <td>https://www.amazon.in/Zebronics-Zeb-Sound-Blue...</td>\n",
       "      <td>3.5</td>\n",
       "      <td>3,177</td>\n",
       "      <td>₹962</td>\n",
       "      <td>₹3,999</td>\n",
       "    </tr>\n",
       "    <tr>\n",
       "      <th>9598</th>\n",
       "      <td>LINQS® Original NXP Chip | Waterproof NFC Tag ...</td>\n",
       "      <td>https://m.media-amazon.com/images/W/IMAGERENDE...</td>\n",
       "      <td>https://www.amazon.in/LINQS-Sticker-Smartrac-C...</td>\n",
       "      <td>3.6</td>\n",
       "      <td>210</td>\n",
       "      <td>₹400</td>\n",
       "      <td>₹1,000</td>\n",
       "    </tr>\n",
       "    <tr>\n",
       "      <th>9599</th>\n",
       "      <td>Pragati Systems® Medium Grain 24x36 Inch 10 Oz...</td>\n",
       "      <td>https://m.media-amazon.com/images/W/IMAGERENDE...</td>\n",
       "      <td>https://www.amazon.in/Pragati-Systems-Stretche...</td>\n",
       "      <td>4.5</td>\n",
       "      <td>938</td>\n",
       "      <td>₹940</td>\n",
       "      <td>₹1,120</td>\n",
       "    </tr>\n",
       "  </tbody>\n",
       "</table>\n",
       "<p>9026 rows × 7 columns</p>\n",
       "</div>"
      ],
      "text/plain": [
       "                                                   name  \\\n",
       "0     Redmi 10 Power (Power Black, 8GB RAM, 128GB St...   \n",
       "1     OnePlus Nord CE 2 Lite 5G (Blue Tide, 6GB RAM,...   \n",
       "2     OnePlus Bullets Z2 Bluetooth Wireless in Ear E...   \n",
       "3     Samsung Galaxy M33 5G (Mystique Green, 6GB, 12...   \n",
       "4     OnePlus Nord CE 2 Lite 5G (Black Dusk, 6GB RAM...   \n",
       "...                                                 ...   \n",
       "9595  PALAY® BTS Backpack For Boys Kpop BTS Bangtan ...   \n",
       "9596  MOCA iPad Air 5th Generation Case 2022 / iPad ...   \n",
       "9597  ZEBRONICS Zeb-Sound Bomb 5 TWS V5.0 Bluetooth ...   \n",
       "9598  LINQS® Original NXP Chip | Waterproof NFC Tag ...   \n",
       "9599  Pragati Systems® Medium Grain 24x36 Inch 10 Oz...   \n",
       "\n",
       "                                                  image  \\\n",
       "0     https://m.media-amazon.com/images/I/81eM15lVcJ...   \n",
       "1     https://m.media-amazon.com/images/I/71AvQd3Vzq...   \n",
       "2     https://m.media-amazon.com/images/I/51UhwaQXCp...   \n",
       "3     https://m.media-amazon.com/images/I/81I3w4J6yj...   \n",
       "4     https://m.media-amazon.com/images/I/71V--WZVUI...   \n",
       "...                                                 ...   \n",
       "9595  https://m.media-amazon.com/images/W/IMAGERENDE...   \n",
       "9596  https://m.media-amazon.com/images/W/IMAGERENDE...   \n",
       "9597  https://m.media-amazon.com/images/W/IMAGERENDE...   \n",
       "9598  https://m.media-amazon.com/images/W/IMAGERENDE...   \n",
       "9599  https://m.media-amazon.com/images/W/IMAGERENDE...   \n",
       "\n",
       "                                                   link ratings no_of_ratings  \\\n",
       "0     https://www.amazon.in/Redmi-Power-Black-128GB-...     4.0           965   \n",
       "1     https://www.amazon.in/OnePlus-Nord-Lite-128GB-...     4.3       113,956   \n",
       "2     https://www.amazon.in/Oneplus-Bluetooth-Wirele...     4.2        90,304   \n",
       "3     https://www.amazon.in/Samsung-Mystique-Storage...     4.1        24,863   \n",
       "4     https://www.amazon.in/OnePlus-Nord-Black-128GB...     4.3       113,956   \n",
       "...                                                 ...     ...           ...   \n",
       "9595  https://www.amazon.in/PALAY%C2%AE-Backpack-Ban...     4.1            37   \n",
       "9596  https://www.amazon.in/MOCA-Protective-Generati...     4.2         1,133   \n",
       "9597  https://www.amazon.in/Zebronics-Zeb-Sound-Blue...     3.5         3,177   \n",
       "9598  https://www.amazon.in/LINQS-Sticker-Smartrac-C...     3.6           210   \n",
       "9599  https://www.amazon.in/Pragati-Systems-Stretche...     4.5           938   \n",
       "\n",
       "     discount_price actual_price  \n",
       "0           ₹10,999      ₹18,999  \n",
       "1           ₹18,999      ₹19,999  \n",
       "2            ₹1,999       ₹2,299  \n",
       "3           ₹15,999      ₹24,999  \n",
       "4           ₹18,999      ₹19,999  \n",
       "...             ...          ...  \n",
       "9595         ₹1,710       ₹2,491  \n",
       "9596           ₹475       ₹1,999  \n",
       "9597           ₹962       ₹3,999  \n",
       "9598           ₹400       ₹1,000  \n",
       "9599           ₹940       ₹1,120  \n",
       "\n",
       "[9026 rows x 7 columns]"
      ]
     },
     "execution_count": 33,
     "metadata": {},
     "output_type": "execute_result"
    }
   ],
   "source": [
    "prod_df"
   ]
  },
  {
   "cell_type": "code",
   "execution_count": 34,
   "metadata": {},
   "outputs": [],
   "source": [
    "prod_df['search_terms'] = prod_df['name'].str.lower()\n",
    "prod_df['search_terms'] = prod_df['search_terms'].str.replace(r'[^\\w\\d\\s]+',' ', regex=True)"
   ]
  },
  {
   "cell_type": "code",
   "execution_count": 35,
   "metadata": {},
   "outputs": [],
   "source": [
    "stemmer = PorterStemmer()\n"
   ]
  },
  {
   "cell_type": "code",
   "execution_count": 36,
   "metadata": {},
   "outputs": [
    {
     "data": {
      "text/plain": [
       "0    redmi 10 power  power black  8gb ram  128gb st...\n",
       "Name: search_terms, dtype: object"
      ]
     },
     "execution_count": 36,
     "metadata": {},
     "output_type": "execute_result"
    }
   ],
   "source": [
    "prod_df['search_terms'].head(1)"
   ]
  },
  {
   "cell_type": "code",
   "execution_count": 37,
   "metadata": {},
   "outputs": [],
   "source": [
    "def stemming_function(sentence):\n",
    "    \"\"\"\n",
    "    Applies stemming on each token in the sentence.\n",
    "    \"\"\"\n",
    "    words = sentence.split()   \n",
    "    stemmed_words = [stemmer.stem(word) for word in words]\n",
    "    return \" \".join(stemmed_words)\n",
    "# stemming_function(prod_df['search_terms'])\n",
    "\n",
    "prod_df['search_terms'] = prod_df['search_terms'].apply(stemming_function)"
   ]
  },
  {
   "cell_type": "code",
   "execution_count": null,
   "metadata": {},
   "outputs": [],
   "source": []
  },
  {
   "cell_type": "code",
   "execution_count": 38,
   "metadata": {},
   "outputs": [
    {
     "data": {
      "text/html": [
       "<div>\n",
       "<style scoped>\n",
       "    .dataframe tbody tr th:only-of-type {\n",
       "        vertical-align: middle;\n",
       "    }\n",
       "\n",
       "    .dataframe tbody tr th {\n",
       "        vertical-align: top;\n",
       "    }\n",
       "\n",
       "    .dataframe thead th {\n",
       "        text-align: right;\n",
       "    }\n",
       "</style>\n",
       "<table border=\"1\" class=\"dataframe\">\n",
       "  <thead>\n",
       "    <tr style=\"text-align: right;\">\n",
       "      <th></th>\n",
       "      <th>name</th>\n",
       "      <th>search_terms</th>\n",
       "    </tr>\n",
       "  </thead>\n",
       "  <tbody>\n",
       "    <tr>\n",
       "      <th>0</th>\n",
       "      <td>Redmi 10 Power (Power Black, 8GB RAM, 128GB St...</td>\n",
       "      <td>redmi 10 power power black 8gb ram 128gb storag</td>\n",
       "    </tr>\n",
       "    <tr>\n",
       "      <th>1</th>\n",
       "      <td>OnePlus Nord CE 2 Lite 5G (Blue Tide, 6GB RAM,...</td>\n",
       "      <td>oneplu nord ce 2 lite 5g blue tide 6gb ram 128...</td>\n",
       "    </tr>\n",
       "    <tr>\n",
       "      <th>2</th>\n",
       "      <td>OnePlus Bullets Z2 Bluetooth Wireless in Ear E...</td>\n",
       "      <td>oneplu bullet z2 bluetooth wireless in ear ear...</td>\n",
       "    </tr>\n",
       "  </tbody>\n",
       "</table>\n",
       "</div>"
      ],
      "text/plain": [
       "                                                name  \\\n",
       "0  Redmi 10 Power (Power Black, 8GB RAM, 128GB St...   \n",
       "1  OnePlus Nord CE 2 Lite 5G (Blue Tide, 6GB RAM,...   \n",
       "2  OnePlus Bullets Z2 Bluetooth Wireless in Ear E...   \n",
       "\n",
       "                                        search_terms  \n",
       "0    redmi 10 power power black 8gb ram 128gb storag  \n",
       "1  oneplu nord ce 2 lite 5g blue tide 6gb ram 128...  \n",
       "2  oneplu bullet z2 bluetooth wireless in ear ear...  "
      ]
     },
     "execution_count": 38,
     "metadata": {},
     "output_type": "execute_result"
    }
   ],
   "source": [
    "prod_df[['name','search_terms']].head(3)\n"
   ]
  },
  {
   "cell_type": "code",
   "execution_count": 39,
   "metadata": {},
   "outputs": [
    {
     "data": {
      "text/plain": [
       "0    redmi 10 power power black 8gb ram 128gb storag\n",
       "Name: search_terms, dtype: object"
      ]
     },
     "execution_count": 39,
     "metadata": {},
     "output_type": "execute_result"
    }
   ],
   "source": [
    "prod_df['search_terms'].head(1)\n"
   ]
  },
  {
   "cell_type": "code",
   "execution_count": 40,
   "metadata": {},
   "outputs": [
    {
     "data": {
      "text/plain": [
       "(9026, 8)"
      ]
     },
     "execution_count": 40,
     "metadata": {},
     "output_type": "execute_result"
    }
   ],
   "source": [
    "prod_df.shape\n"
   ]
  },
  {
   "cell_type": "code",
   "execution_count": 41,
   "metadata": {},
   "outputs": [
    {
     "name": "stdout",
     "output_type": "stream",
     "text": [
      "Feature matrix shape: (9026, 8)\n"
     ]
    }
   ],
   "source": [
    "vectorizer = CountVectorizer(\n",
    "    max_features=5000,  \n",
    "    stop_words='english',\n",
    "    dtype=np.int8\n",
    ")\n",
    "\n",
    "feature_matrix = vectorizer.fit_transform(prod_df['search_terms'])\n",
    "print(\"Feature matrix shape:\", prod_df.shape)"
   ]
  },
  {
   "cell_type": "code",
   "execution_count": 42,
   "metadata": {},
   "outputs": [
    {
     "data": {
      "text/plain": [
       "0      redmi 10 power power black 8gb ram 128gb storag\n",
       "1    oneplu nord ce 2 lite 5g blue tide 6gb ram 128...\n",
       "2    oneplu bullet z2 bluetooth wireless in ear ear...\n",
       "3    samsung galaxi m33 5g mystiqu green 6gb 128gb ...\n",
       "4    oneplu nord ce 2 lite 5g black dusk 6gb ram 12...\n",
       "Name: search_terms, dtype: object"
      ]
     },
     "execution_count": 42,
     "metadata": {},
     "output_type": "execute_result"
    }
   ],
   "source": [
    "prod_df['search_terms'].head(5)"
   ]
  },
  {
   "cell_type": "code",
   "execution_count": 43,
   "metadata": {},
   "outputs": [
    {
     "name": "stdout",
     "output_type": "stream",
     "text": [
      "Similarity matrix shape: (9026, 9026)\n"
     ]
    }
   ],
   "source": [
    "similarities = cosine_similarity(feature_matrix)\n",
    "print(\"Similarity matrix shape:\", similarities.shape)"
   ]
  },
  {
   "cell_type": "code",
   "execution_count": 44,
   "metadata": {},
   "outputs": [
    {
     "data": {
      "text/plain": [
       "array([[1.        , 0.27272727, 0.07106691, ..., 0.        , 0.        ,\n",
       "        0.0836242 ],\n",
       "       [0.27272727, 1.        , 0.07106691, ..., 0.        , 0.        ,\n",
       "        0.        ],\n",
       "       [0.07106691, 0.07106691, 1.        , ..., 0.18257419, 0.        ,\n",
       "        0.06537205],\n",
       "       ...,\n",
       "       [0.        , 0.        , 0.18257419, ..., 1.        , 0.        ,\n",
       "        0.        ],\n",
       "       [0.        , 0.        , 0.        , ..., 0.        , 1.        ,\n",
       "        0.        ],\n",
       "       [0.0836242 , 0.        , 0.06537205, ..., 0.        , 0.        ,\n",
       "        1.        ]])"
      ]
     },
     "execution_count": 44,
     "metadata": {},
     "output_type": "execute_result"
    }
   ],
   "source": [
    "similarities"
   ]
  },
  {
   "cell_type": "code",
   "execution_count": 45,
   "metadata": {},
   "outputs": [
    {
     "data": {
      "text/plain": [
       "[(0, 1.0),\n",
       " (1, 0.2727272727272727),\n",
       " (2, 0.07106690545187015),\n",
       " (3, 0.26967994498529685),\n",
       " (4, 0.36363636363636365)]"
      ]
     },
     "execution_count": 45,
     "metadata": {},
     "output_type": "execute_result"
    }
   ],
   "source": [
    "sorted(list(enumerate(similarities[0])))[0:5]\n"
   ]
  },
  {
   "cell_type": "code",
   "execution_count": 46,
   "metadata": {},
   "outputs": [
    {
     "data": {
      "text/plain": [
       "[(0, 1.0),\n",
       " (5, 0.8040302522073697),\n",
       " (8643, 0.5698028822981898),\n",
       " (8230, 0.533001790889026),\n",
       " (8825, 0.533001790889026)]"
      ]
     },
     "execution_count": 46,
     "metadata": {},
     "output_type": "execute_result"
    }
   ],
   "source": [
    "sorted(list(enumerate(similarities[0])),key = lambda x :x[1],reverse=True)[0:5]\n"
   ]
  },
  {
   "cell_type": "code",
   "execution_count": 47,
   "metadata": {},
   "outputs": [
    {
     "name": "stdout",
     "output_type": "stream",
     "text": [
      "Size of the similarity matrix: 621.56 MB\n"
     ]
    }
   ],
   "source": [
    "def memory_in_mb(obj):\n",
    "    \"\"\"\n",
    "    Returns memory usage of an object in megabytes.\n",
    "    \"\"\"\n",
    "    return sys.getsizeof(obj)/1024/1024\n",
    "\n",
    "print(f\"Size of the similarity matrix: {memory_in_mb(similarities):.2f} MB\")"
   ]
  },
  {
   "cell_type": "code",
   "execution_count": 48,
   "metadata": {},
   "outputs": [
    {
     "name": "stdout",
     "output_type": "stream",
     "text": [
      "Time to build top-10 neighbors structure: 26.986 sec\n",
      "Shape of top_k_neighbors: (9026, 10)\n",
      "Memory usage of top_k_neighbors: 0.34 MB\n"
     ]
    }
   ],
   "source": [
    "def build_top_neighbors_matrix(sim_matrix, k=10):\n",
    "    \"\"\"\n",
    "    For each product, find the top-K neighbors (most similar),\n",
    "    excluding the product itself. Return a 2D list/array of indices.\n",
    "    \"\"\"\n",
    "    top_neighbors_list = []\n",
    "    \n",
    "    for row_idx in range(sim_matrix.shape[0]):\n",
    "        sim_scores = list(enumerate(sim_matrix[row_idx]))\n",
    "        sim_scores_sorted = sorted(sim_scores, key=lambda x: x[1], reverse=True)\n",
    "        top_neighbors = sim_scores_sorted[1:k+1]\n",
    "        top_neighbors_indices = [item[0] for item in top_neighbors]\n",
    "        top_neighbors_list.append(top_neighbors_indices)\n",
    "    \n",
    "    return np.array(top_neighbors_list, dtype=np.int32)\n",
    "\n",
    "start_time = time.time()\n",
    "top_k_neighbors = build_top_neighbors_matrix(similarities, k=10)\n",
    "end_time = time.time()\n",
    "\n",
    "print(f\"Time to build top-10 neighbors structure: {end_time - start_time:.3f} sec\")\n",
    "print(\"Shape of top_k_neighbors:\", top_k_neighbors.shape)\n",
    "print(f\"Memory usage of top_k_neighbors: {memory_in_mb(top_k_neighbors):.2f} MB\")"
   ]
  },
  {
   "cell_type": "code",
   "execution_count": 49,
   "metadata": {},
   "outputs": [],
   "source": [
    "# del similarities"
   ]
  },
  {
   "cell_type": "code",
   "execution_count": 50,
   "metadata": {},
   "outputs": [],
   "source": [
    "def shorten_image_url(url_str):\n",
    "    \"\"\"\n",
    "    Example of how to shorten the image URL \n",
    "    if you find repeated patterns. Adjust logic as needed.\n",
    "    \"\"\"\n",
    "    url_str = str(url_str)\n",
    "    part_after = url_str.split('images/')[-1]\n",
    "    part_after = part_after.split('._AC_UL320_.jpg')[0]\n",
    "    return part_after\n",
    "\n",
    "prod_df['image_id'] = prod_df['image'].apply(shorten_image_url)"
   ]
  },
  {
   "cell_type": "code",
   "execution_count": 51,
   "metadata": {},
   "outputs": [
    {
     "data": {
      "text/plain": [
       "0    I/81eM15lVcJL\n",
       "Name: image_id, dtype: object"
      ]
     },
     "execution_count": 51,
     "metadata": {},
     "output_type": "execute_result"
    }
   ],
   "source": [
    "prod_df['image_id'].head(1)"
   ]
  },
  {
   "cell_type": "code",
   "execution_count": 52,
   "metadata": {},
   "outputs": [],
   "source": [
    "def shorten_amazon_link(link_str):\n",
    "    \"\"\"\n",
    "    Removes the 'https://www.amazon.in/' part \n",
    "    to keep only the path if that's desired.\n",
    "    \"\"\"\n",
    "    link_str = str(link_str)\n",
    "    return link_str.replace('https://www.amazon.in/', '')\n",
    "\n",
    "prod_df['link_id'] = prod_df['link'].apply(shorten_amazon_link)"
   ]
  },
  {
   "cell_type": "code",
   "execution_count": 53,
   "metadata": {},
   "outputs": [],
   "source": [
    "prod_df['ratings_cleaned'] = prod_df['ratings'].str.replace(r'[^\\d.]','', regex=True).astype(float, errors='ignore')\n",
    "prod_df['num_ratings_cleaned'] = prod_df['no_of_ratings'].str.replace(r'[^\\d.]','', regex=True).astype(float, errors='ignore')"
   ]
  },
  {
   "cell_type": "code",
   "execution_count": 54,
   "metadata": {},
   "outputs": [],
   "source": [
    "product_names = prod_df['name'].reset_index(drop=True)\n",
    "name_to_idx_map = {name: i for i, name in enumerate(product_names)}\n",
    "\n",
    "# name_to_idx_map\n",
    "# lable encoding "
   ]
  },
  {
   "cell_type": "code",
   "execution_count": 55,
   "metadata": {},
   "outputs": [],
   "source": [
    "def find_index_by_name(product_name):\n",
    "    \"\"\"\n",
    "    Returns the index of a product if found, else -1.\n",
    "    \"\"\"\n",
    "    return name_to_idx_map.get(product_name, -1)"
   ]
  },
  {
   "cell_type": "code",
   "execution_count": 56,
   "metadata": {},
   "outputs": [],
   "source": [
    "def find_index_by_partial_link(partial_link):\n",
    "    \"\"\"\n",
    "    If user inputs a link or partial link, \n",
    "    find that product's index from 'link_id'.\n",
    "    \"\"\"\n",
    "    mask = prod_df['link_id'].str.contains(partial_link, na=False)\n",
    "    matches = prod_df[mask]\n",
    "    if not matches.empty:\n",
    "        return matches.index[0]\n",
    "    return -1"
   ]
  },
  {
   "cell_type": "code",
   "execution_count": 57,
   "metadata": {},
   "outputs": [],
   "source": [
    "def get_similar_products(product_query, k=5):\n",
    "    \"\"\"\n",
    "    1) Check if product_query is a full name or partial link.\n",
    "    2) Retrieve the product index.\n",
    "    3) Extract top-k neighbors.\n",
    "    4) Return recommended items as a DataFrame.\n",
    "    \"\"\"\n",
    "    idx = find_index_by_name(product_query)\n",
    "    \n",
    "    if idx == -1:\n",
    "        idx = find_index_by_partial_link(product_query)\n",
    "    \n",
    "    if idx == -1:\n",
    "        print(f\"Product '{product_query}' not found in the dataset.\")\n",
    "        return pd.DataFrame()\n",
    "    \n",
    "    neighbors_indices = top_k_neighbors[idx][:k]\n",
    "    \n",
    "    rec_df = prod_df.iloc[neighbors_indices].copy()\n",
    "    rec_df = rec_df[['name','ratings','no_of_ratings','discount_price','actual_price','link','image']]\n",
    "    rec_df.reset_index(drop=True, inplace=True)\n",
    "    return rec_df\n"
   ]
  },
  {
   "cell_type": "code",
   "execution_count": 58,
   "metadata": {},
   "outputs": [
    {
     "name": "stdout",
     "output_type": "stream",
     "text": [
      "::---SELECTED PRODUCT---::\n",
      "boAt Airdopes 172 True Wireless in Ear Earbuds with ENx™ Tech, Beast Mode, 35H Playtime, 11mm Drivers, ASAP™ Charge, IPX4,...\n",
      "\n",
      "::---TOP 5 RECOMMENDATIONS---::\n"
     ]
    },
    {
     "data": {
      "text/html": [
       "<div>\n",
       "<style scoped>\n",
       "    .dataframe tbody tr th:only-of-type {\n",
       "        vertical-align: middle;\n",
       "    }\n",
       "\n",
       "    .dataframe tbody tr th {\n",
       "        vertical-align: top;\n",
       "    }\n",
       "\n",
       "    .dataframe thead th {\n",
       "        text-align: right;\n",
       "    }\n",
       "</style>\n",
       "<table border=\"1\" class=\"dataframe\">\n",
       "  <thead>\n",
       "    <tr style=\"text-align: right;\">\n",
       "      <th></th>\n",
       "      <th>name</th>\n",
       "      <th>ratings</th>\n",
       "      <th>no_of_ratings</th>\n",
       "      <th>discount_price</th>\n",
       "      <th>actual_price</th>\n",
       "      <th>link</th>\n",
       "      <th>image</th>\n",
       "    </tr>\n",
       "  </thead>\n",
       "  <tbody>\n",
       "    <tr>\n",
       "      <th>0</th>\n",
       "      <td>boAt Airdopes 172 True Wireless in Ear Earbuds...</td>\n",
       "      <td>3.8</td>\n",
       "      <td>48,615</td>\n",
       "      <td>₹1,199</td>\n",
       "      <td>₹2,990</td>\n",
       "      <td>https://www.amazon.in/boAt-Airdopes-172-Wirele...</td>\n",
       "      <td>https://m.media-amazon.com/images/I/51Cr2ebLj9...</td>\n",
       "    </tr>\n",
       "    <tr>\n",
       "      <th>1</th>\n",
       "      <td>boAt Airdopes 113 TWS Wireless in Ear Earbuds ...</td>\n",
       "      <td>4.3</td>\n",
       "      <td>134</td>\n",
       "      <td>₹1,299</td>\n",
       "      <td>₹2,990</td>\n",
       "      <td>https://www.amazon.in/boAt-Airdopes-113-Immers...</td>\n",
       "      <td>https://m.media-amazon.com/images/I/412EM++qEC...</td>\n",
       "    </tr>\n",
       "    <tr>\n",
       "      <th>2</th>\n",
       "      <td>boAt Airdopes 113 TWS Wireless in Ear Earbuds ...</td>\n",
       "      <td>4.3</td>\n",
       "      <td>134</td>\n",
       "      <td>₹1,299</td>\n",
       "      <td>₹2,990</td>\n",
       "      <td>https://www.amazon.in/boAt-Airdopes-113-Immers...</td>\n",
       "      <td>https://m.media-amazon.com/images/I/518TpkNStF...</td>\n",
       "    </tr>\n",
       "    <tr>\n",
       "      <th>3</th>\n",
       "      <td>boAt Airdopes 141 Pro True Wireless in Ear Ear...</td>\n",
       "      <td>3.9</td>\n",
       "      <td>172,347</td>\n",
       "      <td>₹1,399</td>\n",
       "      <td>₹2,990</td>\n",
       "      <td>https://www.amazon.in/boAt-Airdopes-141-Pro-Wi...</td>\n",
       "      <td>https://m.media-amazon.com/images/I/41TWloBD6X...</td>\n",
       "    </tr>\n",
       "    <tr>\n",
       "      <th>4</th>\n",
       "      <td>boAt Airdopes 113 Bluetooth Truly Wireless in ...</td>\n",
       "      <td>4.3</td>\n",
       "      <td>134</td>\n",
       "      <td>₹1,299</td>\n",
       "      <td>₹2,990</td>\n",
       "      <td>https://www.amazon.in/boAt-Airdopes-113-Blueto...</td>\n",
       "      <td>https://m.media-amazon.com/images/I/51qs4eM3lJ...</td>\n",
       "    </tr>\n",
       "  </tbody>\n",
       "</table>\n",
       "</div>"
      ],
      "text/plain": [
       "                                                name ratings no_of_ratings  \\\n",
       "0  boAt Airdopes 172 True Wireless in Ear Earbuds...     3.8        48,615   \n",
       "1  boAt Airdopes 113 TWS Wireless in Ear Earbuds ...     4.3           134   \n",
       "2  boAt Airdopes 113 TWS Wireless in Ear Earbuds ...     4.3           134   \n",
       "3  boAt Airdopes 141 Pro True Wireless in Ear Ear...     3.9       172,347   \n",
       "4  boAt Airdopes 113 Bluetooth Truly Wireless in ...     4.3           134   \n",
       "\n",
       "  discount_price actual_price  \\\n",
       "0         ₹1,199       ₹2,990   \n",
       "1         ₹1,299       ₹2,990   \n",
       "2         ₹1,299       ₹2,990   \n",
       "3         ₹1,399       ₹2,990   \n",
       "4         ₹1,299       ₹2,990   \n",
       "\n",
       "                                                link  \\\n",
       "0  https://www.amazon.in/boAt-Airdopes-172-Wirele...   \n",
       "1  https://www.amazon.in/boAt-Airdopes-113-Immers...   \n",
       "2  https://www.amazon.in/boAt-Airdopes-113-Immers...   \n",
       "3  https://www.amazon.in/boAt-Airdopes-141-Pro-Wi...   \n",
       "4  https://www.amazon.in/boAt-Airdopes-113-Blueto...   \n",
       "\n",
       "                                               image  \n",
       "0  https://m.media-amazon.com/images/I/51Cr2ebLj9...  \n",
       "1  https://m.media-amazon.com/images/I/412EM++qEC...  \n",
       "2  https://m.media-amazon.com/images/I/518TpkNStF...  \n",
       "3  https://m.media-amazon.com/images/I/41TWloBD6X...  \n",
       "4  https://m.media-amazon.com/images/I/51qs4eM3lJ...  "
      ]
     },
     "metadata": {},
     "output_type": "display_data"
    }
   ],
   "source": [
    "some_product = prod_df['name'].iloc[100]\n",
    "print(\"::---SELECTED PRODUCT---::\")\n",
    "print(some_product)\n",
    "\n",
    "print(\"\\n::---TOP 5 RECOMMENDATIONS---::\")\n",
    "recommendations_df = get_similar_products(some_product, k=5)\n",
    "display(recommendations_df)"
   ]
  },
  {
   "cell_type": "code",
   "execution_count": 65,
   "metadata": {},
   "outputs": [
    {
     "data": {
      "text/plain": [
       "['prod_df.lb']"
      ]
     },
     "execution_count": 65,
     "metadata": {},
     "output_type": "execute_result"
    }
   ],
   "source": [
    "prod_df.head()\n",
    "\n",
    "import joblib\n",
    "joblib.dump(prod_df,\"prod_df.lb\")"
   ]
  },
  {
   "cell_type": "code",
   "execution_count": 60,
   "metadata": {},
   "outputs": [],
   "source": [
    "from IPython.display import HTML, display"
   ]
  },
  {
   "cell_type": "code",
   "execution_count": 61,
   "metadata": {},
   "outputs": [
    {
     "data": {
      "text/html": [
       "\n",
       "<h2>Selected Product</h2>\n",
       "<div style=\"display: flex; align-items: center; margin-bottom: 20px;\">\n",
       "  <img src=\"https://m.media-amazon.com/images/I/61onAgKP5gL._AC_UL320_.jpg\" alt=\"Product Image\" \n",
       "       style=\"width: 120px; margin-right: 20px; border: 1px solid #ccc;\"/>\n",
       "  <div>\n",
       "    <h4 style=\"margin: 0;\">Dell MS116 1000Dpi USB Wired Optical Mouse, Led Tracking, Scrolling Wheel, Plug and Play.</h4>\n",
       "    <p style=\"margin: 5px 0;\">Price: ₹299</p>\n",
       "  </div>\n",
       "</div>\n"
      ],
      "text/plain": [
       "<IPython.core.display.HTML object>"
      ]
     },
     "metadata": {},
     "output_type": "display_data"
    },
    {
     "data": {
      "text/html": [
       "<h3>Top 5 Recommendations</h3>"
      ],
      "text/plain": [
       "<IPython.core.display.HTML object>"
      ]
     },
     "metadata": {},
     "output_type": "display_data"
    },
    {
     "data": {
      "text/html": [
       "\n",
       "    <div style=\"border: 1px solid #ddd; margin-bottom: 15px; padding: 10px; \n",
       "                display: flex; align-items: center;\">\n",
       "      <img src=\"https://m.media-amazon.com/images/W/IMAGERENDERING_521856-T2/images/I/81VXoI0y+kL._AC_UL320_.jpg\" alt=\"Recommended Product\" \n",
       "           style=\"width: 80px; margin-right: 20px; border: 1px solid #ccc;\"/>\n",
       "      <div>\n",
       "        <p style=\"margin: 0;\"><strong>Dell MS116 USB Optical Mouse (Black)</strong></p>\n",
       "        <p style=\"margin: 5px 0;\">Price: ₹389</p>\n",
       "      </div>\n",
       "    </div>\n",
       "    "
      ],
      "text/plain": [
       "<IPython.core.display.HTML object>"
      ]
     },
     "metadata": {},
     "output_type": "display_data"
    },
    {
     "data": {
      "text/html": [
       "\n",
       "    <div style=\"border: 1px solid #ddd; margin-bottom: 15px; padding: 10px; \n",
       "                display: flex; align-items: center;\">\n",
       "      <img src=\"https://m.media-amazon.com/images/I/61JiXMLP0ZL._AC_UL320_.jpg\" alt=\"Recommended Product\" \n",
       "           style=\"width: 80px; margin-right: 20px; border: 1px solid #ccc;\"/>\n",
       "      <div>\n",
       "        <p style=\"margin: 0;\"><strong>Logitech MK120 Wired USB Keyboard and Mouse Set for Windows, Optical Wired Mouse, Full-Size Keyboard, USB Plug-and-Play, C...</strong></p>\n",
       "        <p style=\"margin: 5px 0;\">Price: ₹1,130</p>\n",
       "      </div>\n",
       "    </div>\n",
       "    "
      ],
      "text/plain": [
       "<IPython.core.display.HTML object>"
      ]
     },
     "metadata": {},
     "output_type": "display_data"
    },
    {
     "data": {
      "text/html": [
       "\n",
       "    <div style=\"border: 1px solid #ddd; margin-bottom: 15px; padding: 10px; \n",
       "                display: flex; align-items: center;\">\n",
       "      <img src=\"https://m.media-amazon.com/images/I/51Kh5lN0h3L._AC_UL320_.jpg\" alt=\"Recommended Product\" \n",
       "           style=\"width: 80px; margin-right: 20px; border: 1px solid #ccc;\"/>\n",
       "      <div>\n",
       "        <p style=\"margin: 0;\"><strong>Lenovo 300 Wired Plug & Play USB Mouse, High Resolution 1600 DPI Optical Sensor, 3-Button Design with clickable Scroll Whe...</strong></p>\n",
       "        <p style=\"margin: 5px 0;\">Price: ₹284</p>\n",
       "      </div>\n",
       "    </div>\n",
       "    "
      ],
      "text/plain": [
       "<IPython.core.display.HTML object>"
      ]
     },
     "metadata": {},
     "output_type": "display_data"
    },
    {
     "data": {
      "text/html": [
       "\n",
       "    <div style=\"border: 1px solid #ddd; margin-bottom: 15px; padding: 10px; \n",
       "                display: flex; align-items: center;\">\n",
       "      <img src=\"https://m.media-amazon.com/images/W/IMAGERENDERING_521856-T2/images/I/71ZqmiRNQjL._AC_UL320_.jpg\" alt=\"Recommended Product\" \n",
       "           style=\"width: 80px; margin-right: 20px; border: 1px solid #ccc;\"/>\n",
       "      <div>\n",
       "        <p style=\"margin: 0;\"><strong>HP Wired Mouse 100 with 1600 DPI Optical Sensor, USB Plug-and -Play,ambidextrous Design, Built-in Scrolling and 3 Handy Bu...</strong></p>\n",
       "        <p style=\"margin: 5px 0;\">Price: ₹349</p>\n",
       "      </div>\n",
       "    </div>\n",
       "    "
      ],
      "text/plain": [
       "<IPython.core.display.HTML object>"
      ]
     },
     "metadata": {},
     "output_type": "display_data"
    },
    {
     "data": {
      "text/html": [
       "\n",
       "    <div style=\"border: 1px solid #ddd; margin-bottom: 15px; padding: 10px; \n",
       "                display: flex; align-items: center;\">\n",
       "      <img src=\"https://m.media-amazon.com/images/I/413KN8VlqDS._AC_UL320_.jpg\" alt=\"Recommended Product\" \n",
       "           style=\"width: 80px; margin-right: 20px; border: 1px solid #ccc;\"/>\n",
       "      <div>\n",
       "        <p style=\"margin: 0;\"><strong>HP 150 Wired Mouse- Elegant Ergonomic Design, 1600 DPI Optical Tracking, USB Plug & Play / 3 Years Warranty (240J6AA), Black</strong></p>\n",
       "        <p style=\"margin: 5px 0;\">Price: ₹384</p>\n",
       "      </div>\n",
       "    </div>\n",
       "    "
      ],
      "text/plain": [
       "<IPython.core.display.HTML object>"
      ]
     },
     "metadata": {},
     "output_type": "display_data"
    }
   ],
   "source": [
    "some_product = \"Dell MS116 1000Dpi USB Wired Optical Mouse, Led Tracking, Scrolling Wheel, Plug and Play.\"\n",
    "recommendations_df = get_similar_products(some_product, k=5)\n",
    "selected_idx = find_index_by_name(some_product)\n",
    "selected_row = prod_df.iloc[selected_idx]\n",
    "selected_name = selected_row['name']\n",
    "selected_price = selected_row['discount_price']\n",
    "selected_image_url = selected_row['image'] \n",
    "display(HTML(f\"\"\"\n",
    "<h2>Selected Product</h2>\n",
    "<div style=\"display: flex; align-items: center; margin-bottom: 20px;\">\n",
    "  <img src=\"{selected_image_url}\" alt=\"Product Image\" \n",
    "       style=\"width: 120px; margin-right: 20px; border: 1px solid #ccc;\"/>\n",
    "  <div>\n",
    "    <h4 style=\"margin: 0;\">{selected_name}</h4>\n",
    "    <p style=\"margin: 5px 0;\">Price: {selected_price}</p>\n",
    "  </div>\n",
    "</div>\n",
    "\"\"\"))\n",
    "display(HTML(\"<h3>Top 5 Recommendations</h3>\"))\n",
    "for _, row in recommendations_df.iterrows():\n",
    "    rec_name  = row['name']\n",
    "    rec_price = row['discount_price']\n",
    "    rec_image = row['image']\n",
    "    \n",
    "    display(HTML(f\"\"\"\n",
    "    <div style=\"border: 1px solid #ddd; margin-bottom: 15px; padding: 10px; \n",
    "                display: flex; align-items: center;\">\n",
    "      <img src=\"{rec_image}\" alt=\"Recommended Product\" \n",
    "           style=\"width: 80px; margin-right: 20px; border: 1px solid #ccc;\"/>\n",
    "      <div>\n",
    "        <p style=\"margin: 0;\"><strong>{rec_name}</strong></p>\n",
    "        <p style=\"margin: 5px 0;\">Price: {rec_price}</p>\n",
    "      </div>\n",
    "    </div>\n",
    "    \"\"\"))"
   ]
  },
  {
   "cell_type": "code",
   "execution_count": 62,
   "metadata": {},
   "outputs": [
    {
     "data": {
      "text/html": [
       "\n",
       "<h2>Selected Product</h2>\n",
       "<div style=\"display: flex; align-items: center; margin-bottom: 20px;\">\n",
       "  <img src=\"https://m.media-amazon.com/images/I/71V--WZVUIL._AC_UL320_.jpg\" alt=\"Product Image\" \n",
       "       style=\"width: 120px; margin-right: 20px; border: 1px solid #ccc;\"/>\n",
       "  <div>\n",
       "    <h4 style=\"margin: 0;\">OnePlus Nord CE 2 Lite 5G (Black Dusk, 6GB RAM, 128GB Storage)</h4>\n",
       "    <p style=\"margin: 5px 0;\">Price: ₹18,999</p>\n",
       "  </div>\n",
       "</div>\n"
      ],
      "text/plain": [
       "<IPython.core.display.HTML object>"
      ]
     },
     "metadata": {},
     "output_type": "display_data"
    },
    {
     "data": {
      "text/html": [
       "<h3>Top 5 Recommendations</h3>"
      ],
      "text/plain": [
       "<IPython.core.display.HTML object>"
      ]
     },
     "metadata": {},
     "output_type": "display_data"
    },
    {
     "data": {
      "text/html": [
       "\n",
       "    <div style=\"border: 1px solid #ddd; margin-bottom: 15px; padding: 10px; \n",
       "                display: flex; align-items: center;\">\n",
       "      <img src=\"https://m.media-amazon.com/images/I/71AvQd3VzqL._AC_UL320_.jpg\" alt=\"Recommended Product\" \n",
       "           style=\"width: 80px; margin-right: 20px; border: 1px solid #ccc;\"/>\n",
       "      <div>\n",
       "        <p style=\"margin: 0;\"><strong>OnePlus Nord CE 2 Lite 5G (Blue Tide, 6GB RAM, 128GB Storage)</strong></p>\n",
       "        <p style=\"margin: 5px 0;\">Price: ₹18,999</p>\n",
       "      </div>\n",
       "    </div>\n",
       "    "
      ],
      "text/plain": [
       "<IPython.core.display.HTML object>"
      ]
     },
     "metadata": {},
     "output_type": "display_data"
    },
    {
     "data": {
      "text/html": [
       "\n",
       "    <div style=\"border: 1px solid #ddd; margin-bottom: 15px; padding: 10px; \n",
       "                display: flex; align-items: center;\">\n",
       "      <img src=\"https://m.media-amazon.com/images/I/71AvQd3VzqL._AC_UL320_.jpg\" alt=\"Recommended Product\" \n",
       "           style=\"width: 80px; margin-right: 20px; border: 1px solid #ccc;\"/>\n",
       "      <div>\n",
       "        <p style=\"margin: 0;\"><strong>OnePlus Nord CE 2 Lite 5G (Blue Tide, 8GB RAM, 128GB Storage)</strong></p>\n",
       "        <p style=\"margin: 5px 0;\">Price: ₹20,999</p>\n",
       "      </div>\n",
       "    </div>\n",
       "    "
      ],
      "text/plain": [
       "<IPython.core.display.HTML object>"
      ]
     },
     "metadata": {},
     "output_type": "display_data"
    },
    {
     "data": {
      "text/html": [
       "\n",
       "    <div style=\"border: 1px solid #ddd; margin-bottom: 15px; padding: 10px; \n",
       "                display: flex; align-items: center;\">\n",
       "      <img src=\"https://m.media-amazon.com/images/W/IMAGERENDERING_521856-T2/images/I/71K84j2O8wL._AC_UL320_.jpg\" alt=\"Recommended Product\" \n",
       "           style=\"width: 80px; margin-right: 20px; border: 1px solid #ccc;\"/>\n",
       "      <div>\n",
       "        <p style=\"margin: 0;\"><strong>OnePlus 11 5G (Titan Black, 8GB RAM, 128GB Storage)</strong></p>\n",
       "        <p style=\"margin: 5px 0;\">Price: ₹56,999</p>\n",
       "      </div>\n",
       "    </div>\n",
       "    "
      ],
      "text/plain": [
       "<IPython.core.display.HTML object>"
      ]
     },
     "metadata": {},
     "output_type": "display_data"
    },
    {
     "data": {
      "text/html": [
       "\n",
       "    <div style=\"border: 1px solid #ddd; margin-bottom: 15px; padding: 10px; \n",
       "                display: flex; align-items: center;\">\n",
       "      <img src=\"https://m.media-amazon.com/images/I/51EfDWKl24L._AC_UL320_.jpg\" alt=\"Recommended Product\" \n",
       "           style=\"width: 80px; margin-right: 20px; border: 1px solid #ccc;\"/>\n",
       "      <div>\n",
       "        <p style=\"margin: 0;\"><strong>(Renewed) OnePlus 6T (Mirror Black, 6GB RAM, 128GB Storage)</strong></p>\n",
       "        <p style=\"margin: 5px 0;\">Price: ₹14,399</p>\n",
       "      </div>\n",
       "    </div>\n",
       "    "
      ],
      "text/plain": [
       "<IPython.core.display.HTML object>"
      ]
     },
     "metadata": {},
     "output_type": "display_data"
    },
    {
     "data": {
      "text/html": [
       "\n",
       "    <div style=\"border: 1px solid #ddd; margin-bottom: 15px; padding: 10px; \n",
       "                display: flex; align-items: center;\">\n",
       "      <img src=\"https://m.media-amazon.com/images/W/IMAGERENDERING_521856-T2/images/I/71BoiXkrEmL._AC_UL320_.jpg\" alt=\"Recommended Product\" \n",
       "           style=\"width: 80px; margin-right: 20px; border: 1px solid #ccc;\"/>\n",
       "      <div>\n",
       "        <p style=\"margin: 0;\"><strong>OnePlus 10R 5G (Sierra Black, 8GB RAM, 128GB Storage, 80W SuperVOOC)</strong></p>\n",
       "        <p style=\"margin: 5px 0;\">Price: ₹31,999</p>\n",
       "      </div>\n",
       "    </div>\n",
       "    "
      ],
      "text/plain": [
       "<IPython.core.display.HTML object>"
      ]
     },
     "metadata": {},
     "output_type": "display_data"
    }
   ],
   "source": [
    "some_product = \"OnePlus Nord CE 2 Lite 5G (Black Dusk, 6GB RAM, 128GB Storage)\"\n",
    "recommendations_df = get_similar_products(some_product, k=5)\n",
    "selected_idx = find_index_by_name(some_product)\n",
    "selected_row = prod_df.iloc[selected_idx]\n",
    "selected_name = selected_row['name']\n",
    "selected_price = selected_row['discount_price']\n",
    "selected_image_url = selected_row['image'] \n",
    "display(HTML(f\"\"\"\n",
    "<h2>Selected Product</h2>\n",
    "<div style=\"display: flex; align-items: center; margin-bottom: 20px;\">\n",
    "  <img src=\"{selected_image_url}\" alt=\"Product Image\" \n",
    "       style=\"width: 120px; margin-right: 20px; border: 1px solid #ccc;\"/>\n",
    "  <div>\n",
    "    <h4 style=\"margin: 0;\">{selected_name}</h4>\n",
    "    <p style=\"margin: 5px 0;\">Price: {selected_price}</p>\n",
    "  </div>\n",
    "</div>\n",
    "\"\"\"))\n",
    "display(HTML(\"<h3>Top 5 Recommendations</h3>\"))\n",
    "for _, row in recommendations_df.iterrows():\n",
    "    rec_name  = row['name']\n",
    "    rec_price = row['discount_price']\n",
    "    rec_image = row['image']\n",
    "    \n",
    "    display(HTML(f\"\"\"\n",
    "    <div style=\"border: 1px solid #ddd; margin-bottom: 15px; padding: 10px; \n",
    "                display: flex; align-items: center;\">\n",
    "      <img src=\"{rec_image}\" alt=\"Recommended Product\" \n",
    "           style=\"width: 80px; margin-right: 20px; border: 1px solid #ccc;\"/>\n",
    "      <div>\n",
    "        <p style=\"margin: 0;\"><strong>{rec_name}</strong></p>\n",
    "        <p style=\"margin: 5px 0;\">Price: {rec_price}</p>\n",
    "      </div>\n",
    "    </div>\n",
    "    \"\"\"))"
   ]
  },
  {
   "cell_type": "code",
   "execution_count": 63,
   "metadata": {},
   "outputs": [],
   "source": [
    "# import numpy as np\n",
    "# import pandas as pd\n",
    "# import sys\n",
    "# import re\n",
    "# import time\n",
    "# import pickle\n",
    "# import os\n",
    "\n",
    "# import nltk\n",
    "# from nltk.stem.porter import PorterStemmer\n",
    "# nltk.download('stopwords')\n",
    "# from nltk.corpus import stopwords\n",
    "\n",
    "# from sklearn.feature_extraction.text import CountVectorizer\n",
    "# from sklearn.metrics.pairwise import cosine_similarity"
   ]
  },
  {
   "cell_type": "code",
   "execution_count": null,
   "metadata": {},
   "outputs": [],
   "source": []
  }
 ],
 "metadata": {
  "kernelspec": {
   "display_name": "Python 3",
   "language": "python",
   "name": "python3"
  },
  "language_info": {
   "codemirror_mode": {
    "name": "ipython",
    "version": 3
   },
   "file_extension": ".py",
   "mimetype": "text/x-python",
   "name": "python",
   "nbconvert_exporter": "python",
   "pygments_lexer": "ipython3",
   "version": "3.11.5"
  }
 },
 "nbformat": 4,
 "nbformat_minor": 2
}
